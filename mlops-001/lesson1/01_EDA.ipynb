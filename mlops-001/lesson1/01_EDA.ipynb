{
  "cells": [
    {
      "cell_type": "markdown",
      "metadata": {
        "id": "1ONcx4Z06KHu"
      },
      "source": [
        "<a href=\"https://colab.research.google.com/github/wandb/edu/blob/main/mlops-001/lesson1/01_EDA.ipynb\" target=\"_parent\"><img src=\"https://colab.research.google.com/assets/colab-badge.svg\" alt=\"Open In Colab\"/></a>\n",
        "<!--- @wandbcode{course-lesson1} -->"
      ],
      "id": "1ONcx4Z06KHu"
    },
    {
      "cell_type": "code",
      "execution_count": 1,
      "id": "faa157c5",
      "metadata": {
        "colab": {
          "base_uri": "https://localhost:8080/"
        },
        "id": "faa157c5",
        "outputId": "387d0e6a-7499-4f27-e07d-bec6230ba139"
      },
      "outputs": [
        {
          "output_type": "stream",
          "name": "stdout",
          "text": [
            "--2024-12-03 00:26:25--  https://raw.githubusercontent.com/wandb/edu/main/mlops-001/lesson1/requirements.txt\n",
            "Resolving raw.githubusercontent.com (raw.githubusercontent.com)... 185.199.110.133, 185.199.108.133, 185.199.109.133, ...\n",
            "Connecting to raw.githubusercontent.com (raw.githubusercontent.com)|185.199.110.133|:443... connected.\n",
            "HTTP request sent, awaiting response... 200 OK\n",
            "Length: 82 [text/plain]\n",
            "Saving to: ‘requirements.txt’\n",
            "\n",
            "\rrequirements.txt      0%[                    ]       0  --.-KB/s               \rrequirements.txt    100%[===================>]      82  --.-KB/s    in 0s      \n",
            "\n",
            "2024-12-03 00:26:25 (2.68 MB/s) - ‘requirements.txt’ saved [82/82]\n",
            "\n",
            "--2024-12-03 00:26:25--  https://raw.githubusercontent.com/wandb/edu/main/mlops-001/lesson1/params.py\n",
            "Resolving raw.githubusercontent.com (raw.githubusercontent.com)... 185.199.108.133, 185.199.109.133, 185.199.110.133, ...\n",
            "Connecting to raw.githubusercontent.com (raw.githubusercontent.com)|185.199.108.133|:443... connected.\n",
            "HTTP request sent, awaiting response... 200 OK\n",
            "Length: 295 [text/plain]\n",
            "Saving to: ‘params.py’\n",
            "\n",
            "params.py           100%[===================>]     295  --.-KB/s    in 0s      \n",
            "\n",
            "2024-12-03 00:26:26 (16.8 MB/s) - ‘params.py’ saved [295/295]\n",
            "\n",
            "--2024-12-03 00:26:26--  https://raw.githubusercontent.com/wandb/edu/main/mlops-001/lesson1/utils.py\n",
            "Resolving raw.githubusercontent.com (raw.githubusercontent.com)... 185.199.109.133, 185.199.108.133, 185.199.110.133, ...\n",
            "Connecting to raw.githubusercontent.com (raw.githubusercontent.com)|185.199.109.133|:443... connected.\n",
            "HTTP request sent, awaiting response... 200 OK\n",
            "Length: 6721 (6.6K) [text/plain]\n",
            "Saving to: ‘utils.py’\n",
            "\n",
            "utils.py            100%[===================>]   6.56K  --.-KB/s    in 0s      \n",
            "\n",
            "2024-12-03 00:26:26 (32.6 MB/s) - ‘utils.py’ saved [6721/6721]\n",
            "\n",
            "Requirement already satisfied: torch>=1.9 in /usr/local/lib/python3.10/dist-packages (from -r requirements.txt (line 1)) (2.5.1+cu121)\n",
            "Requirement already satisfied: fastai>=2.7 in /usr/local/lib/python3.10/dist-packages (from -r requirements.txt (line 2)) (2.7.18)\n",
            "Requirement already satisfied: matplotlib in /usr/local/lib/python3.10/dist-packages (from -r requirements.txt (line 3)) (3.8.0)\n",
            "Requirement already satisfied: numpy in /usr/local/lib/python3.10/dist-packages (from -r requirements.txt (line 4)) (1.26.4)\n",
            "Requirement already satisfied: pandas in /usr/local/lib/python3.10/dist-packages (from -r requirements.txt (line 5)) (2.2.2)\n",
            "Requirement already satisfied: scikit-learn in /usr/local/lib/python3.10/dist-packages (from -r requirements.txt (line 6)) (1.5.2)\n",
            "Requirement already satisfied: torchvision in /usr/local/lib/python3.10/dist-packages (from -r requirements.txt (line 7)) (0.20.1+cu121)\n",
            "Requirement already satisfied: tqdm in /usr/local/lib/python3.10/dist-packages (from -r requirements.txt (line 8)) (4.66.6)\n",
            "Requirement already satisfied: wandb in /usr/local/lib/python3.10/dist-packages (from -r requirements.txt (line 9)) (0.18.7)\n",
            "Requirement already satisfied: filelock in /usr/local/lib/python3.10/dist-packages (from torch>=1.9->-r requirements.txt (line 1)) (3.16.1)\n",
            "Requirement already satisfied: typing-extensions>=4.8.0 in /usr/local/lib/python3.10/dist-packages (from torch>=1.9->-r requirements.txt (line 1)) (4.12.2)\n",
            "Requirement already satisfied: networkx in /usr/local/lib/python3.10/dist-packages (from torch>=1.9->-r requirements.txt (line 1)) (3.4.2)\n",
            "Requirement already satisfied: jinja2 in /usr/local/lib/python3.10/dist-packages (from torch>=1.9->-r requirements.txt (line 1)) (3.1.4)\n",
            "Requirement already satisfied: fsspec in /usr/local/lib/python3.10/dist-packages (from torch>=1.9->-r requirements.txt (line 1)) (2024.10.0)\n",
            "Requirement already satisfied: sympy==1.13.1 in /usr/local/lib/python3.10/dist-packages (from torch>=1.9->-r requirements.txt (line 1)) (1.13.1)\n",
            "Requirement already satisfied: mpmath<1.4,>=1.1.0 in /usr/local/lib/python3.10/dist-packages (from sympy==1.13.1->torch>=1.9->-r requirements.txt (line 1)) (1.3.0)\n",
            "Requirement already satisfied: pip in /usr/local/lib/python3.10/dist-packages (from fastai>=2.7->-r requirements.txt (line 2)) (24.1.2)\n",
            "Requirement already satisfied: packaging in /usr/local/lib/python3.10/dist-packages (from fastai>=2.7->-r requirements.txt (line 2)) (24.2)\n",
            "Requirement already satisfied: fastdownload<2,>=0.0.5 in /usr/local/lib/python3.10/dist-packages (from fastai>=2.7->-r requirements.txt (line 2)) (0.0.7)\n",
            "Requirement already satisfied: fastcore<1.8,>=1.5.29 in /usr/local/lib/python3.10/dist-packages (from fastai>=2.7->-r requirements.txt (line 2)) (1.7.20)\n",
            "Requirement already satisfied: requests in /usr/local/lib/python3.10/dist-packages (from fastai>=2.7->-r requirements.txt (line 2)) (2.32.3)\n",
            "Requirement already satisfied: pyyaml in /usr/local/lib/python3.10/dist-packages (from fastai>=2.7->-r requirements.txt (line 2)) (6.0.2)\n",
            "Requirement already satisfied: fastprogress>=0.2.4 in /usr/local/lib/python3.10/dist-packages (from fastai>=2.7->-r requirements.txt (line 2)) (1.0.3)\n",
            "Requirement already satisfied: pillow>=9.0.0 in /usr/local/lib/python3.10/dist-packages (from fastai>=2.7->-r requirements.txt (line 2)) (11.0.0)\n",
            "Requirement already satisfied: scipy in /usr/local/lib/python3.10/dist-packages (from fastai>=2.7->-r requirements.txt (line 2)) (1.13.1)\n",
            "Requirement already satisfied: spacy<4 in /usr/local/lib/python3.10/dist-packages (from fastai>=2.7->-r requirements.txt (line 2)) (3.7.5)\n",
            "Requirement already satisfied: contourpy>=1.0.1 in /usr/local/lib/python3.10/dist-packages (from matplotlib->-r requirements.txt (line 3)) (1.3.1)\n",
            "Requirement already satisfied: cycler>=0.10 in /usr/local/lib/python3.10/dist-packages (from matplotlib->-r requirements.txt (line 3)) (0.12.1)\n",
            "Requirement already satisfied: fonttools>=4.22.0 in /usr/local/lib/python3.10/dist-packages (from matplotlib->-r requirements.txt (line 3)) (4.55.0)\n",
            "Requirement already satisfied: kiwisolver>=1.0.1 in /usr/local/lib/python3.10/dist-packages (from matplotlib->-r requirements.txt (line 3)) (1.4.7)\n",
            "Requirement already satisfied: pyparsing>=2.3.1 in /usr/local/lib/python3.10/dist-packages (from matplotlib->-r requirements.txt (line 3)) (3.2.0)\n",
            "Requirement already satisfied: python-dateutil>=2.7 in /usr/local/lib/python3.10/dist-packages (from matplotlib->-r requirements.txt (line 3)) (2.8.2)\n",
            "Requirement already satisfied: pytz>=2020.1 in /usr/local/lib/python3.10/dist-packages (from pandas->-r requirements.txt (line 5)) (2024.2)\n",
            "Requirement already satisfied: tzdata>=2022.7 in /usr/local/lib/python3.10/dist-packages (from pandas->-r requirements.txt (line 5)) (2024.2)\n",
            "Requirement already satisfied: joblib>=1.2.0 in /usr/local/lib/python3.10/dist-packages (from scikit-learn->-r requirements.txt (line 6)) (1.4.2)\n",
            "Requirement already satisfied: threadpoolctl>=3.1.0 in /usr/local/lib/python3.10/dist-packages (from scikit-learn->-r requirements.txt (line 6)) (3.5.0)\n",
            "Requirement already satisfied: click!=8.0.0,>=7.1 in /usr/local/lib/python3.10/dist-packages (from wandb->-r requirements.txt (line 9)) (8.1.7)\n",
            "Requirement already satisfied: docker-pycreds>=0.4.0 in /usr/local/lib/python3.10/dist-packages (from wandb->-r requirements.txt (line 9)) (0.4.0)\n",
            "Requirement already satisfied: gitpython!=3.1.29,>=1.0.0 in /usr/local/lib/python3.10/dist-packages (from wandb->-r requirements.txt (line 9)) (3.1.43)\n",
            "Requirement already satisfied: platformdirs in /usr/local/lib/python3.10/dist-packages (from wandb->-r requirements.txt (line 9)) (4.3.6)\n",
            "Requirement already satisfied: protobuf!=4.21.0,!=5.28.0,<6,>=3.19.0 in /usr/local/lib/python3.10/dist-packages (from wandb->-r requirements.txt (line 9)) (4.25.5)\n",
            "Requirement already satisfied: psutil>=5.0.0 in /usr/local/lib/python3.10/dist-packages (from wandb->-r requirements.txt (line 9)) (5.9.5)\n",
            "Requirement already satisfied: sentry-sdk>=2.0.0 in /usr/local/lib/python3.10/dist-packages (from wandb->-r requirements.txt (line 9)) (2.18.0)\n",
            "Requirement already satisfied: setproctitle in /usr/local/lib/python3.10/dist-packages (from wandb->-r requirements.txt (line 9)) (1.3.4)\n",
            "Requirement already satisfied: setuptools in /usr/local/lib/python3.10/dist-packages (from wandb->-r requirements.txt (line 9)) (75.1.0)\n",
            "Requirement already satisfied: six>=1.4.0 in /usr/local/lib/python3.10/dist-packages (from docker-pycreds>=0.4.0->wandb->-r requirements.txt (line 9)) (1.16.0)\n",
            "Requirement already satisfied: gitdb<5,>=4.0.1 in /usr/local/lib/python3.10/dist-packages (from gitpython!=3.1.29,>=1.0.0->wandb->-r requirements.txt (line 9)) (4.0.11)\n",
            "Requirement already satisfied: charset-normalizer<4,>=2 in /usr/local/lib/python3.10/dist-packages (from requests->fastai>=2.7->-r requirements.txt (line 2)) (3.4.0)\n",
            "Requirement already satisfied: idna<4,>=2.5 in /usr/local/lib/python3.10/dist-packages (from requests->fastai>=2.7->-r requirements.txt (line 2)) (3.10)\n",
            "Requirement already satisfied: urllib3<3,>=1.21.1 in /usr/local/lib/python3.10/dist-packages (from requests->fastai>=2.7->-r requirements.txt (line 2)) (2.2.3)\n",
            "Requirement already satisfied: certifi>=2017.4.17 in /usr/local/lib/python3.10/dist-packages (from requests->fastai>=2.7->-r requirements.txt (line 2)) (2024.8.30)\n",
            "Requirement already satisfied: spacy-legacy<3.1.0,>=3.0.11 in /usr/local/lib/python3.10/dist-packages (from spacy<4->fastai>=2.7->-r requirements.txt (line 2)) (3.0.12)\n",
            "Requirement already satisfied: spacy-loggers<2.0.0,>=1.0.0 in /usr/local/lib/python3.10/dist-packages (from spacy<4->fastai>=2.7->-r requirements.txt (line 2)) (1.0.5)\n",
            "Requirement already satisfied: murmurhash<1.1.0,>=0.28.0 in /usr/local/lib/python3.10/dist-packages (from spacy<4->fastai>=2.7->-r requirements.txt (line 2)) (1.0.10)\n",
            "Requirement already satisfied: cymem<2.1.0,>=2.0.2 in /usr/local/lib/python3.10/dist-packages (from spacy<4->fastai>=2.7->-r requirements.txt (line 2)) (2.0.8)\n",
            "Requirement already satisfied: preshed<3.1.0,>=3.0.2 in /usr/local/lib/python3.10/dist-packages (from spacy<4->fastai>=2.7->-r requirements.txt (line 2)) (3.0.9)\n",
            "Requirement already satisfied: thinc<8.3.0,>=8.2.2 in /usr/local/lib/python3.10/dist-packages (from spacy<4->fastai>=2.7->-r requirements.txt (line 2)) (8.2.5)\n",
            "Requirement already satisfied: wasabi<1.2.0,>=0.9.1 in /usr/local/lib/python3.10/dist-packages (from spacy<4->fastai>=2.7->-r requirements.txt (line 2)) (1.1.3)\n",
            "Requirement already satisfied: srsly<3.0.0,>=2.4.3 in /usr/local/lib/python3.10/dist-packages (from spacy<4->fastai>=2.7->-r requirements.txt (line 2)) (2.4.8)\n",
            "Requirement already satisfied: catalogue<2.1.0,>=2.0.6 in /usr/local/lib/python3.10/dist-packages (from spacy<4->fastai>=2.7->-r requirements.txt (line 2)) (2.0.10)\n",
            "Requirement already satisfied: weasel<0.5.0,>=0.1.0 in /usr/local/lib/python3.10/dist-packages (from spacy<4->fastai>=2.7->-r requirements.txt (line 2)) (0.4.1)\n",
            "Requirement already satisfied: typer<1.0.0,>=0.3.0 in /usr/local/lib/python3.10/dist-packages (from spacy<4->fastai>=2.7->-r requirements.txt (line 2)) (0.13.0)\n",
            "Requirement already satisfied: pydantic!=1.8,!=1.8.1,<3.0.0,>=1.7.4 in /usr/local/lib/python3.10/dist-packages (from spacy<4->fastai>=2.7->-r requirements.txt (line 2)) (2.9.2)\n",
            "Requirement already satisfied: langcodes<4.0.0,>=3.2.0 in /usr/local/lib/python3.10/dist-packages (from spacy<4->fastai>=2.7->-r requirements.txt (line 2)) (3.4.1)\n",
            "Requirement already satisfied: MarkupSafe>=2.0 in /usr/local/lib/python3.10/dist-packages (from jinja2->torch>=1.9->-r requirements.txt (line 1)) (3.0.2)\n",
            "Requirement already satisfied: smmap<6,>=3.0.1 in /usr/local/lib/python3.10/dist-packages (from gitdb<5,>=4.0.1->gitpython!=3.1.29,>=1.0.0->wandb->-r requirements.txt (line 9)) (5.0.1)\n",
            "Requirement already satisfied: language-data>=1.2 in /usr/local/lib/python3.10/dist-packages (from langcodes<4.0.0,>=3.2.0->spacy<4->fastai>=2.7->-r requirements.txt (line 2)) (1.2.0)\n",
            "Requirement already satisfied: annotated-types>=0.6.0 in /usr/local/lib/python3.10/dist-packages (from pydantic!=1.8,!=1.8.1,<3.0.0,>=1.7.4->spacy<4->fastai>=2.7->-r requirements.txt (line 2)) (0.7.0)\n",
            "Requirement already satisfied: pydantic-core==2.23.4 in /usr/local/lib/python3.10/dist-packages (from pydantic!=1.8,!=1.8.1,<3.0.0,>=1.7.4->spacy<4->fastai>=2.7->-r requirements.txt (line 2)) (2.23.4)\n",
            "Requirement already satisfied: blis<0.8.0,>=0.7.8 in /usr/local/lib/python3.10/dist-packages (from thinc<8.3.0,>=8.2.2->spacy<4->fastai>=2.7->-r requirements.txt (line 2)) (0.7.11)\n",
            "Requirement already satisfied: confection<1.0.0,>=0.0.1 in /usr/local/lib/python3.10/dist-packages (from thinc<8.3.0,>=8.2.2->spacy<4->fastai>=2.7->-r requirements.txt (line 2)) (0.1.5)\n",
            "Requirement already satisfied: shellingham>=1.3.0 in /usr/local/lib/python3.10/dist-packages (from typer<1.0.0,>=0.3.0->spacy<4->fastai>=2.7->-r requirements.txt (line 2)) (1.5.4)\n",
            "Requirement already satisfied: rich>=10.11.0 in /usr/local/lib/python3.10/dist-packages (from typer<1.0.0,>=0.3.0->spacy<4->fastai>=2.7->-r requirements.txt (line 2)) (13.9.4)\n",
            "Requirement already satisfied: cloudpathlib<1.0.0,>=0.7.0 in /usr/local/lib/python3.10/dist-packages (from weasel<0.5.0,>=0.1.0->spacy<4->fastai>=2.7->-r requirements.txt (line 2)) (0.20.0)\n",
            "Requirement already satisfied: smart-open<8.0.0,>=5.2.1 in /usr/local/lib/python3.10/dist-packages (from weasel<0.5.0,>=0.1.0->spacy<4->fastai>=2.7->-r requirements.txt (line 2)) (7.0.5)\n",
            "Requirement already satisfied: marisa-trie>=0.7.7 in /usr/local/lib/python3.10/dist-packages (from language-data>=1.2->langcodes<4.0.0,>=3.2.0->spacy<4->fastai>=2.7->-r requirements.txt (line 2)) (1.2.1)\n",
            "Requirement already satisfied: markdown-it-py>=2.2.0 in /usr/local/lib/python3.10/dist-packages (from rich>=10.11.0->typer<1.0.0,>=0.3.0->spacy<4->fastai>=2.7->-r requirements.txt (line 2)) (3.0.0)\n",
            "Requirement already satisfied: pygments<3.0.0,>=2.13.0 in /usr/local/lib/python3.10/dist-packages (from rich>=10.11.0->typer<1.0.0,>=0.3.0->spacy<4->fastai>=2.7->-r requirements.txt (line 2)) (2.18.0)\n",
            "Requirement already satisfied: wrapt in /usr/local/lib/python3.10/dist-packages (from smart-open<8.0.0,>=5.2.1->weasel<0.5.0,>=0.1.0->spacy<4->fastai>=2.7->-r requirements.txt (line 2)) (1.16.0)\n",
            "Requirement already satisfied: mdurl~=0.1 in /usr/local/lib/python3.10/dist-packages (from markdown-it-py>=2.2.0->rich>=10.11.0->typer<1.0.0,>=0.3.0->spacy<4->fastai>=2.7->-r requirements.txt (line 2)) (0.1.2)\n"
          ]
        }
      ],
      "source": [
        "# Install dependencies (run once)\n",
        "!wget https://raw.githubusercontent.com/wandb/edu/main/mlops-001/lesson1/requirements.txt\n",
        "!wget https://raw.githubusercontent.com/wandb/edu/main/mlops-001/lesson1/params.py\n",
        "!wget https://raw.githubusercontent.com/wandb/edu/main/mlops-001/lesson1/utils.py\n",
        "!pip install -r requirements.txt"
      ]
    },
    {
      "cell_type": "markdown",
      "id": "a212966e-8f38-4b4a-8e00-2985120439ca",
      "metadata": {
        "id": "a212966e-8f38-4b4a-8e00-2985120439ca"
      },
      "source": [
        "# EDA\n",
        "<!--- @wandbcode{course-lesson1} -->\n",
        "\n",
        "In this notebook, we will download a sample of the [BDD100K](https://www.bdd100k.com/) semantic segmentation dataset and use W&B Artifacts and Tables to version and analyze our data."
      ]
    },
    {
      "cell_type": "code",
      "execution_count": 2,
      "id": "17490b58-a8f2-489e-9c71-ca0e078591dc",
      "metadata": {
        "id": "17490b58-a8f2-489e-9c71-ca0e078591dc"
      },
      "outputs": [],
      "source": [
        "DEBUG = False # set this flag to True to use a small subset of data for testing"
      ]
    },
    {
      "cell_type": "code",
      "execution_count": 3,
      "id": "7ee88efc-3257-4ed7-bb8c-1695f4a8c828",
      "metadata": {
        "id": "7ee88efc-3257-4ed7-bb8c-1695f4a8c828"
      },
      "outputs": [],
      "source": [
        "from fastai.vision.all import *\n",
        "import params\n",
        "\n",
        "import wandb"
      ]
    },
    {
      "cell_type": "markdown",
      "id": "055764da-7252-4796-86af-585007dea288",
      "metadata": {
        "id": "055764da-7252-4796-86af-585007dea288"
      },
      "source": [
        "We have defined some global configuration parameters in the `params.py` file. `ENTITY` should correspond to your W&B Team name if you work in a team, replace it with `None` if you work individually.\n",
        "\n",
        "In the section below, we will use `untar_data` function from `fastai` to download and unzip our datasets."
      ]
    },
    {
      "cell_type": "code",
      "execution_count": null,
      "id": "0bae3750-a653-4265-9c52-c1f9af9b8393",
      "metadata": {
        "id": "0bae3750-a653-4265-9c52-c1f9af9b8393"
      },
      "outputs": [],
      "source": [
        "URL = 'https://storage.googleapis.com/wandb_course/bdd_simple_1k.zip'"
      ]
    },
    {
      "cell_type": "code",
      "execution_count": null,
      "id": "0da50d19-860a-4b39-8320-a376c483da04",
      "metadata": {
        "id": "0da50d19-860a-4b39-8320-a376c483da04"
      },
      "outputs": [],
      "source": [
        "path = Path(untar_data(URL, force_download=True))"
      ]
    },
    {
      "cell_type": "code",
      "execution_count": null,
      "id": "6df5b830-e685-4a0d-81e8-6dda10697dff",
      "metadata": {
        "id": "6df5b830-e685-4a0d-81e8-6dda10697dff"
      },
      "outputs": [],
      "source": [
        "path.ls()"
      ]
    },
    {
      "cell_type": "markdown",
      "id": "db6708ae-abaa-432f-83b0-028a99222096",
      "metadata": {
        "id": "db6708ae-abaa-432f-83b0-028a99222096"
      },
      "source": [
        "Here we define several functions to help us process the data and upload it as a `Table` to W&B."
      ]
    },
    {
      "cell_type": "code",
      "execution_count": null,
      "id": "5779f980-4d9b-4645-9726-642a25334e10",
      "metadata": {
        "id": "5779f980-4d9b-4645-9726-642a25334e10"
      },
      "outputs": [],
      "source": [
        "def label_func(fname):\n",
        "    return (fname.parent.parent/\"labels\")/f\"{fname.stem}_mask.png\"\n",
        "\n",
        "def get_classes_per_image(mask_data, class_labels):\n",
        "    unique = list(np.unique(mask_data))\n",
        "    result_dict = {}\n",
        "    for _class in class_labels.keys():\n",
        "        result_dict[class_labels[_class]] = int(_class in unique)\n",
        "    return result_dict\n",
        "\n",
        "def _create_table(image_files, class_labels):\n",
        "    \"Create a table with the dataset\"\n",
        "    labels = [str(class_labels[_lab]) for _lab in list(class_labels)]\n",
        "    table = wandb.Table(columns=[\"File_Name\", \"Images\", \"Split\"] + labels)\n",
        "\n",
        "    for i, image_file in progress_bar(enumerate(image_files), total=len(image_files)):\n",
        "        image = Image.open(image_file)\n",
        "        mask_data = np.array(Image.open(label_func(image_file)))\n",
        "        class_in_image = get_classes_per_image(mask_data, class_labels)\n",
        "        table.add_data(\n",
        "            str(image_file.name),\n",
        "            wandb.Image(\n",
        "                    image,\n",
        "                    masks={\n",
        "                        \"predictions\": {\n",
        "                            \"mask_data\": mask_data,\n",
        "                            \"class_labels\": class_labels,\n",
        "                        }\n",
        "                    }\n",
        "            ),\n",
        "            \"None\", # we don't have a dataset split yet\n",
        "            *[class_in_image[_lab] for _lab in labels]\n",
        "        )\n",
        "\n",
        "    return table"
      ]
    },
    {
      "cell_type": "markdown",
      "id": "eac085cd-2409-4baf-a887-108e3dca65b9",
      "metadata": {
        "id": "eac085cd-2409-4baf-a887-108e3dca65b9"
      },
      "source": [
        "We will start a new W&B `run` and put everything into a raw Artifact."
      ]
    },
    {
      "cell_type": "code",
      "execution_count": null,
      "id": "e87141b3-b9b7-4a40-839c-64c835484f48",
      "metadata": {
        "id": "e87141b3-b9b7-4a40-839c-64c835484f48"
      },
      "outputs": [],
      "source": [
        "run = wandb.init(project=params.WANDB_PROJECT, entity=params.ENTITY, job_type=\"upload\")\n",
        "raw_data_at = wandb.Artifact(params.RAW_DATA_AT, type=\"raw_data\")"
      ]
    },
    {
      "cell_type": "code",
      "execution_count": null,
      "id": "f2de6968-b465-4e2e-aaf1-787a48c7981e",
      "metadata": {
        "id": "f2de6968-b465-4e2e-aaf1-787a48c7981e"
      },
      "outputs": [],
      "source": [
        "raw_data_at.add_file(path/'LICENSE.txt', name='LICENSE.txt')"
      ]
    },
    {
      "cell_type": "markdown",
      "id": "10addc71-201d-4c29-af23-9a5d9a5cbddf",
      "metadata": {
        "id": "10addc71-201d-4c29-af23-9a5d9a5cbddf"
      },
      "source": [
        "Let's add the images and label masks."
      ]
    },
    {
      "cell_type": "code",
      "execution_count": null,
      "id": "e2e29a83-ec60-4518-8b73-078f1719bc8f",
      "metadata": {
        "id": "e2e29a83-ec60-4518-8b73-078f1719bc8f"
      },
      "outputs": [],
      "source": [
        "raw_data_at.add_dir(path/'images', name='images')\n",
        "raw_data_at.add_dir(path/'labels', name='labels')"
      ]
    },
    {
      "cell_type": "markdown",
      "id": "01b989eb-36da-4194-9a34-88126749f210",
      "metadata": {
        "id": "01b989eb-36da-4194-9a34-88126749f210"
      },
      "source": [
        "Let's get the file names of images in our dataset and use the function we defined above to create a W&B Table."
      ]
    },
    {
      "cell_type": "code",
      "execution_count": null,
      "id": "aeaa2dae-1b2b-4c70-8dcf-b079f4f05b86",
      "metadata": {
        "id": "aeaa2dae-1b2b-4c70-8dcf-b079f4f05b86"
      },
      "outputs": [],
      "source": [
        "image_files = get_image_files(path/\"images\", recurse=False)\n",
        "\n",
        "# sample a subset if DEBUG\n",
        "if DEBUG: image_files = image_files[:10]"
      ]
    },
    {
      "cell_type": "code",
      "execution_count": null,
      "id": "451ff088-4cb3-4739-b4e8-308d03645ffe",
      "metadata": {
        "id": "451ff088-4cb3-4739-b4e8-308d03645ffe"
      },
      "outputs": [],
      "source": [
        "table = _create_table(image_files, params.BDD_CLASSES)"
      ]
    },
    {
      "cell_type": "markdown",
      "id": "ff73cd37-6a72-44f7-a5cf-6abe7d327092",
      "metadata": {
        "id": "ff73cd37-6a72-44f7-a5cf-6abe7d327092"
      },
      "source": [
        "Finally, we will add the Table to our Artifact, log it to W&B and finish our `run`."
      ]
    },
    {
      "cell_type": "code",
      "execution_count": null,
      "id": "d4183e9c-75e4-48a8-a2e1-0f4492c0b5d0",
      "metadata": {
        "id": "d4183e9c-75e4-48a8-a2e1-0f4492c0b5d0"
      },
      "outputs": [],
      "source": [
        "raw_data_at.add(table, \"eda_table\")"
      ]
    },
    {
      "cell_type": "code",
      "execution_count": null,
      "id": "e81ed9c8-6905-4841-a9f7-e3f3b9b6d927",
      "metadata": {
        "id": "e81ed9c8-6905-4841-a9f7-e3f3b9b6d927"
      },
      "outputs": [],
      "source": [
        "run.log_artifact(raw_data_at)\n",
        "run.finish()"
      ]
    }
  ],
  "metadata": {
    "kernelspec": {
      "display_name": "Python 3",
      "language": "python",
      "name": "python3"
    },
    "language_info": {
      "name": "python",
      "version": "3.10.6 (main, Aug 30 2022, 04:58:14) [Clang 13.1.6 (clang-1316.0.21.2.5)]"
    },
    "vscode": {
      "interpreter": {
        "hash": "b0fa6594d8f4cbf19f97940f81e996739fb7646882a419484c72d19e05852a7e"
      }
    },
    "colab": {
      "provenance": []
    }
  },
  "nbformat": 4,
  "nbformat_minor": 5
}